{
 "cells": [
  {
   "cell_type": "code",
   "execution_count": 12,
   "id": "b446eb84-114d-4aca-97ef-6bfb19713051",
   "metadata": {},
   "outputs": [],
   "source": [
    "a=10"
   ]
  },
  {
   "cell_type": "code",
   "execution_count": 13,
   "id": "fc182cd7-f245-4d40-bdc0-c2151905e54c",
   "metadata": {},
   "outputs": [
    {
     "data": {
      "text/plain": [
       "int"
      ]
     },
     "execution_count": 13,
     "metadata": {},
     "output_type": "execute_result"
    }
   ],
   "source": [
    "type(a)"
   ]
  },
  {
   "cell_type": "code",
   "execution_count": 14,
   "id": "fa8623c6-5f25-4010-aa38-fe4e12d47384",
   "metadata": {},
   "outputs": [],
   "source": [
    "b=\"abhi\""
   ]
  },
  {
   "cell_type": "code",
   "execution_count": 15,
   "id": "4414e120-9653-4f1f-910b-5c0465641a0b",
   "metadata": {},
   "outputs": [
    {
     "data": {
      "text/plain": [
       "str"
      ]
     },
     "execution_count": 15,
     "metadata": {},
     "output_type": "execute_result"
    }
   ],
   "source": [
    "type(b)"
   ]
  },
  {
   "cell_type": "code",
   "execution_count": 16,
   "id": "44eaa4df-0a75-406b-9e03-6588cbfbf31d",
   "metadata": {},
   "outputs": [],
   "source": [
    "c=10.5"
   ]
  },
  {
   "cell_type": "code",
   "execution_count": 19,
   "id": "47f695e3-e1ec-413b-8a1b-024f2cb4eae4",
   "metadata": {},
   "outputs": [
    {
     "data": {
      "text/plain": [
       "float"
      ]
     },
     "execution_count": 19,
     "metadata": {},
     "output_type": "execute_result"
    }
   ],
   "source": [
    "type(c)"
   ]
  },
  {
   "cell_type": "code",
   "execution_count": 20,
   "id": "e8e2f787-46b5-425e-881e-2ac69d097ce4",
   "metadata": {},
   "outputs": [],
   "source": [
    "abhi=5+8j"
   ]
  },
  {
   "cell_type": "code",
   "execution_count": 21,
   "id": "b56a6e56-c458-4b4b-a3da-ab684c43ddeb",
   "metadata": {},
   "outputs": [
    {
     "data": {
      "text/plain": [
       "complex"
      ]
     },
     "execution_count": 21,
     "metadata": {},
     "output_type": "execute_result"
    }
   ],
   "source": [
    "type(abhi)"
   ]
  },
  {
   "cell_type": "code",
   "execution_count": 22,
   "id": "5a68e806-40a5-4962-aaa5-ed847de6a798",
   "metadata": {},
   "outputs": [
    {
     "data": {
      "text/plain": [
       "5.0"
      ]
     },
     "execution_count": 22,
     "metadata": {},
     "output_type": "execute_result"
    }
   ],
   "source": [
    "abhi.real"
   ]
  },
  {
   "cell_type": "code",
   "execution_count": 23,
   "id": "2805d8b8-f072-478c-8cef-650cf5cd9f98",
   "metadata": {},
   "outputs": [
    {
     "data": {
      "text/plain": [
       "8.0"
      ]
     },
     "execution_count": 23,
     "metadata": {},
     "output_type": "execute_result"
    }
   ],
   "source": [
    "abhi.imag"
   ]
  },
  {
   "cell_type": "code",
   "execution_count": 24,
   "id": "40e0ed3f-2545-4c1d-881a-27e4d7d585e1",
   "metadata": {},
   "outputs": [
    {
     "data": {
      "text/plain": [
       "(5+8j)"
      ]
     },
     "execution_count": 24,
     "metadata": {},
     "output_type": "execute_result"
    }
   ],
   "source": [
    "abhi"
   ]
  },
  {
   "cell_type": "code",
   "execution_count": 25,
   "id": "128bfae7-1150-4219-9b8a-ced27005756a",
   "metadata": {},
   "outputs": [
    {
     "name": "stdout",
     "output_type": "stream",
     "text": [
      "my name is abhishek\n"
     ]
    }
   ],
   "source": [
    "print(\"my name is abhishek\")"
   ]
  },
  {
   "cell_type": "code",
   "execution_count": 30,
   "id": "37803cfe-fff4-4faa-9eb7-8a7a7f843ec5",
   "metadata": {},
   "outputs": [],
   "source": [
    "s=\"pwskllis\""
   ]
  },
  {
   "cell_type": "code",
   "execution_count": 27,
   "id": "8e8f5e00-ce92-4bc9-9b9a-37bd24530690",
   "metadata": {},
   "outputs": [
    {
     "data": {
      "text/plain": [
       "str"
      ]
     },
     "execution_count": 27,
     "metadata": {},
     "output_type": "execute_result"
    }
   ],
   "source": [
    "type(s)"
   ]
  },
  {
   "cell_type": "code",
   "execution_count": 28,
   "id": "baf1bf90-f162-4076-a3ef-60df6da6d475",
   "metadata": {},
   "outputs": [
    {
     "data": {
      "text/plain": [
       "'p'"
      ]
     },
     "execution_count": 28,
     "metadata": {},
     "output_type": "execute_result"
    }
   ],
   "source": [
    "s[0]"
   ]
  },
  {
   "cell_type": "code",
   "execution_count": 31,
   "id": "1115b26d-b674-4987-8db2-f913d2919c56",
   "metadata": {},
   "outputs": [
    {
     "data": {
      "text/plain": [
       "'s'"
      ]
     },
     "execution_count": 31,
     "metadata": {},
     "output_type": "execute_result"
    }
   ],
   "source": [
    "s[7]"
   ]
  },
  {
   "cell_type": "code",
   "execution_count": 32,
   "id": "b77fb5d7-6577-422c-82aa-693c2a36d52f",
   "metadata": {},
   "outputs": [
    {
     "data": {
      "text/plain": [
       "'s'"
      ]
     },
     "execution_count": 32,
     "metadata": {},
     "output_type": "execute_result"
    }
   ],
   "source": [
    "s[-1]"
   ]
  },
  {
   "cell_type": "code",
   "execution_count": 33,
   "id": "304e6e77-27ec-4ca0-92aa-87b194f75365",
   "metadata": {},
   "outputs": [
    {
     "data": {
      "text/plain": [
       "'p'"
      ]
     },
     "execution_count": 33,
     "metadata": {},
     "output_type": "execute_result"
    }
   ],
   "source": [
    "s[-8]"
   ]
  },
  {
   "cell_type": "code",
   "execution_count": 34,
   "id": "c5493dbf-d2df-499d-aaa0-5feab616f597",
   "metadata": {},
   "outputs": [
    {
     "data": {
      "text/plain": [
       "'pws'"
      ]
     },
     "execution_count": 34,
     "metadata": {},
     "output_type": "execute_result"
    }
   ],
   "source": [
    "s[0:3]"
   ]
  },
  {
   "cell_type": "code",
   "execution_count": 35,
   "id": "9e4234fe-41da-486b-86a1-f0b904772f31",
   "metadata": {},
   "outputs": [
    {
     "data": {
      "text/plain": [
       "'pw'"
      ]
     },
     "execution_count": 35,
     "metadata": {},
     "output_type": "execute_result"
    }
   ],
   "source": [
    "s[0:2]"
   ]
  },
  {
   "cell_type": "code",
   "execution_count": 37,
   "id": "cd8e5d72-3a69-48e7-a475-839b1ce77969",
   "metadata": {},
   "outputs": [
    {
     "data": {
      "text/plain": [
       "'psli'"
      ]
     },
     "execution_count": 37,
     "metadata": {},
     "output_type": "execute_result"
    }
   ],
   "source": [
    "s[0:8:2]"
   ]
  },
  {
   "cell_type": "code",
   "execution_count": 38,
   "id": "7ffae93a-4323-440d-a796-acb074afff41",
   "metadata": {},
   "outputs": [
    {
     "data": {
      "text/plain": [
       "'psli'"
      ]
     },
     "execution_count": 38,
     "metadata": {},
     "output_type": "execute_result"
    }
   ],
   "source": [
    "s[::2]"
   ]
  },
  {
   "cell_type": "code",
   "execution_count": 39,
   "id": "c0509ff8-3c20-428c-8d8d-b0f59c1dcef0",
   "metadata": {},
   "outputs": [
    {
     "data": {
      "text/plain": [
       "'sli'"
      ]
     },
     "execution_count": 39,
     "metadata": {},
     "output_type": "execute_result"
    }
   ],
   "source": [
    "s[2::2]"
   ]
  },
  {
   "cell_type": "code",
   "execution_count": 41,
   "id": "015424d2-10bb-4d4f-a45d-a23216a5199f",
   "metadata": {},
   "outputs": [
    {
     "data": {
      "text/plain": [
       "'sillkswp'"
      ]
     },
     "execution_count": 41,
     "metadata": {},
     "output_type": "execute_result"
    }
   ],
   "source": [
    "s[::-1]"
   ]
  },
  {
   "cell_type": "code",
   "execution_count": 45,
   "id": "944632b4-1b21-4df1-b60e-14206e4bc19f",
   "metadata": {},
   "outputs": [
    {
     "data": {
      "text/plain": [
       "''"
      ]
     },
     "execution_count": 45,
     "metadata": {},
     "output_type": "execute_result"
    }
   ],
   "source": [
    "s[2:7:-1]"
   ]
  },
  {
   "cell_type": "code",
   "execution_count": 46,
   "id": "f1a1e53c-d278-4f2e-8968-4fb5100115bd",
   "metadata": {},
   "outputs": [
    {
     "data": {
      "text/plain": [
       "''"
      ]
     },
     "execution_count": 46,
     "metadata": {},
     "output_type": "execute_result"
    }
   ],
   "source": [
    "s[8:0]"
   ]
  },
  {
   "cell_type": "code",
   "execution_count": 47,
   "id": "efe615db-ac7a-4d65-9af0-c3f469bb6e40",
   "metadata": {},
   "outputs": [
    {
     "data": {
      "text/plain": [
       "'sillksw'"
      ]
     },
     "execution_count": 47,
     "metadata": {},
     "output_type": "execute_result"
    }
   ],
   "source": [
    "s[8:0:-1]"
   ]
  },
  {
   "cell_type": "code",
   "execution_count": 48,
   "id": "1d869ffd-3621-4ef5-b016-480ca117cbaa",
   "metadata": {},
   "outputs": [
    {
     "data": {
      "text/plain": [
       "''"
      ]
     },
     "execution_count": 48,
     "metadata": {},
     "output_type": "execute_result"
    }
   ],
   "source": [
    "s[-2:-8:1]"
   ]
  },
  {
   "cell_type": "code",
   "execution_count": 51,
   "id": "35bb661f-5e24-46a0-9c29-7e9c400157d9",
   "metadata": {},
   "outputs": [
    {
     "data": {
      "text/plain": [
       "''"
      ]
     },
     "execution_count": 51,
     "metadata": {},
     "output_type": "execute_result"
    }
   ],
   "source": [
    "s[:-90:]"
   ]
  },
  {
   "cell_type": "code",
   "execution_count": 53,
   "id": "f4461eb6-d8c9-4745-a0b0-4302b6d48eae",
   "metadata": {},
   "outputs": [
    {
     "ename": "IndexError",
     "evalue": "string index out of range",
     "output_type": "error",
     "traceback": [
      "\u001b[0;31m---------------------------------------------------------------------------\u001b[0m",
      "\u001b[0;31mIndexError\u001b[0m                                Traceback (most recent call last)",
      "Cell \u001b[0;32mIn[53], line 1\u001b[0m\n\u001b[0;32m----> 1\u001b[0m \u001b[43ms\u001b[49m\u001b[43m[\u001b[49m\u001b[38;5;241;43m90\u001b[39;49m\u001b[43m]\u001b[49m\n",
      "\u001b[0;31mIndexError\u001b[0m: string index out of range"
     ]
    }
   ],
   "source": [
    "s[90]"
   ]
  },
  {
   "cell_type": "code",
   "execution_count": 54,
   "id": "714cdea6-9d5a-4fad-a513-5b0a0120398e",
   "metadata": {},
   "outputs": [],
   "source": [
    "c=200"
   ]
  },
  {
   "cell_type": "code",
   "execution_count": 55,
   "id": "68e2258e-c2d6-472b-b4cd-7bad9d54f196",
   "metadata": {},
   "outputs": [
    {
     "ename": "TypeError",
     "evalue": "'int' object is not subscriptable",
     "output_type": "error",
     "traceback": [
      "\u001b[0;31m---------------------------------------------------------------------------\u001b[0m",
      "\u001b[0;31mTypeError\u001b[0m                                 Traceback (most recent call last)",
      "Cell \u001b[0;32mIn[55], line 1\u001b[0m\n\u001b[0;32m----> 1\u001b[0m \u001b[43mc\u001b[49m\u001b[43m[\u001b[49m\u001b[38;5;241;43m2\u001b[39;49m\u001b[43m]\u001b[49m\n",
      "\u001b[0;31mTypeError\u001b[0m: 'int' object is not subscriptable"
     ]
    }
   ],
   "source": [
    "c[2]"
   ]
  },
  {
   "cell_type": "code",
   "execution_count": 58,
   "id": "98ea7576-cc63-4837-8587-e58be1f0b326",
   "metadata": {},
   "outputs": [],
   "source": [
    "A1=\"this is my frist string\""
   ]
  },
  {
   "cell_type": "code",
   "execution_count": 59,
   "id": "ce3505c7-89c7-4e98-88b8-e36d20bdf31a",
   "metadata": {},
   "outputs": [
    {
     "data": {
      "text/plain": [
       "23"
      ]
     },
     "execution_count": 59,
     "metadata": {},
     "output_type": "execute_result"
    }
   ],
   "source": [
    "len(A1)"
   ]
  },
  {
   "cell_type": "code",
   "execution_count": 62,
   "id": "9ea9702a-292a-414f-96d4-09ac81e50526",
   "metadata": {},
   "outputs": [
    {
     "data": {
      "text/plain": [
       "3"
      ]
     },
     "execution_count": 62,
     "metadata": {},
     "output_type": "execute_result"
    }
   ],
   "source": [
    "A1.find(\"s\")"
   ]
  },
  {
   "cell_type": "code",
   "execution_count": 63,
   "id": "5cb0b42b-6f0e-4d0b-94fc-51d042fa3656",
   "metadata": {},
   "outputs": [
    {
     "data": {
      "text/plain": [
       "4"
      ]
     },
     "execution_count": 63,
     "metadata": {},
     "output_type": "execute_result"
    }
   ],
   "source": [
    "A1.count('s')"
   ]
  },
  {
   "cell_type": "code",
   "execution_count": 64,
   "id": "6ac40d0f-5689-4934-b334-346865add005",
   "metadata": {},
   "outputs": [
    {
     "data": {
      "text/plain": [
       "2"
      ]
     },
     "execution_count": 64,
     "metadata": {},
     "output_type": "execute_result"
    }
   ],
   "source": [
    "A1.count(\"st\")"
   ]
  },
  {
   "cell_type": "code",
   "execution_count": 65,
   "id": "df4c9749-71c8-4ac2-a74e-f8f133f29b43",
   "metadata": {},
   "outputs": [
    {
     "data": {
      "text/plain": [
       "0"
      ]
     },
     "execution_count": 65,
     "metadata": {},
     "output_type": "execute_result"
    }
   ],
   "source": [
    "A1.count(\"z\")"
   ]
  },
  {
   "cell_type": "code",
   "execution_count": 66,
   "id": "69f19dca-0c04-4de1-97ff-773b246ecdd5",
   "metadata": {},
   "outputs": [
    {
     "data": {
      "text/plain": [
       "'this is my frist string'"
      ]
     },
     "execution_count": 66,
     "metadata": {},
     "output_type": "execute_result"
    }
   ],
   "source": [
    "A1"
   ]
  },
  {
   "cell_type": "code",
   "execution_count": 68,
   "id": "ba17746c-b68a-4db6-804b-f9650ea7342d",
   "metadata": {},
   "outputs": [
    {
     "data": {
      "text/plain": [
       "'THIS IS MY FRIST STRING'"
      ]
     },
     "execution_count": 68,
     "metadata": {},
     "output_type": "execute_result"
    }
   ],
   "source": [
    "A1.upper()"
   ]
  },
  {
   "cell_type": "code",
   "execution_count": 69,
   "id": "47b24738-49bc-4719-b4e0-7e5bc5b3bd94",
   "metadata": {},
   "outputs": [],
   "source": [
    "A2=\"THIS IS MY FRIST STRING\""
   ]
  },
  {
   "cell_type": "code",
   "execution_count": 70,
   "id": "49db4f23-1086-4b59-936a-2cb4ff973b17",
   "metadata": {},
   "outputs": [
    {
     "data": {
      "text/plain": [
       "'THIS IS MY FRIST STRING'"
      ]
     },
     "execution_count": 70,
     "metadata": {},
     "output_type": "execute_result"
    }
   ],
   "source": [
    "A2"
   ]
  },
  {
   "cell_type": "code",
   "execution_count": 72,
   "id": "a8ec9cd6-f380-41aa-b8a4-915225865585",
   "metadata": {},
   "outputs": [
    {
     "data": {
      "text/plain": [
       "'this is my frist string'"
      ]
     },
     "execution_count": 72,
     "metadata": {},
     "output_type": "execute_result"
    }
   ],
   "source": [
    "A2.lower()"
   ]
  },
  {
   "cell_type": "code",
   "execution_count": 73,
   "id": "2921ecfd-7a5c-4e2b-9232-95b562730ab8",
   "metadata": {},
   "outputs": [
    {
     "data": {
      "text/plain": [
       "'this is my frist string'"
      ]
     },
     "execution_count": 73,
     "metadata": {},
     "output_type": "execute_result"
    }
   ],
   "source": [
    "A1"
   ]
  },
  {
   "cell_type": "code",
   "execution_count": 75,
   "id": "f8cdd403-9fa3-4fb5-a171-613a9c1d5e86",
   "metadata": {},
   "outputs": [
    {
     "data": {
      "text/plain": [
       "'This Is My Frist String'"
      ]
     },
     "execution_count": 75,
     "metadata": {},
     "output_type": "execute_result"
    }
   ],
   "source": [
    "A1.title()"
   ]
  },
  {
   "cell_type": "code",
   "execution_count": 76,
   "id": "b044f91e-34dc-409d-a627-ed4f4e80c341",
   "metadata": {},
   "outputs": [
    {
     "data": {
      "text/plain": [
       "'This is my frist string'"
      ]
     },
     "execution_count": 76,
     "metadata": {},
     "output_type": "execute_result"
    }
   ],
   "source": [
    "A1.capitalize()"
   ]
  },
  {
   "cell_type": "code",
   "execution_count": 77,
   "id": "90a3a52f-b7e8-411e-8559-9e3436750daf",
   "metadata": {},
   "outputs": [
    {
     "data": {
      "text/plain": [
       "'pwskllis'"
      ]
     },
     "execution_count": 77,
     "metadata": {},
     "output_type": "execute_result"
    }
   ],
   "source": [
    "s"
   ]
  },
  {
   "cell_type": "code",
   "execution_count": 78,
   "id": "2123c923-d74e-4733-9e5d-c336cd2effb8",
   "metadata": {},
   "outputs": [
    {
     "ename": "TypeError",
     "evalue": "can only concatenate str (not \"int\") to str",
     "output_type": "error",
     "traceback": [
      "\u001b[0;31m---------------------------------------------------------------------------\u001b[0m",
      "\u001b[0;31mTypeError\u001b[0m                                 Traceback (most recent call last)",
      "Cell \u001b[0;32mIn[78], line 1\u001b[0m\n\u001b[0;32m----> 1\u001b[0m \u001b[43ms\u001b[49m\u001b[38;5;241;43m+\u001b[39;49m\u001b[38;5;241;43m1\u001b[39;49m\n",
      "\u001b[0;31mTypeError\u001b[0m: can only concatenate str (not \"int\") to str"
     ]
    }
   ],
   "source": [
    "s+1"
   ]
  },
  {
   "cell_type": "code",
   "execution_count": 79,
   "id": "002bd038-b9e1-4f85-b1c5-d7e8b24dc611",
   "metadata": {},
   "outputs": [
    {
     "data": {
      "text/plain": [
       "'pwskllispwskllispwskllis'"
      ]
     },
     "execution_count": 79,
     "metadata": {},
     "output_type": "execute_result"
    }
   ],
   "source": [
    "s*3"
   ]
  },
  {
   "cell_type": "code",
   "execution_count": 80,
   "id": "dbba9297-e8bd-48e7-80cd-10cf09cc2b55",
   "metadata": {},
   "outputs": [
    {
     "ename": "SyntaxError",
     "evalue": "unterminated string literal (detected at line 1) (854716386.py, line 1)",
     "output_type": "error",
     "traceback": [
      "\u001b[0;36m  Cell \u001b[0;32mIn[80], line 1\u001b[0;36m\u001b[0m\n\u001b[0;31m    \"don\"t do copy and pest in my class'\u001b[0m\n\u001b[0m                                       ^\u001b[0m\n\u001b[0;31mSyntaxError\u001b[0m\u001b[0;31m:\u001b[0m unterminated string literal (detected at line 1)\n"
     ]
    }
   ],
   "source": [
    "\"don\"t do copy and pest in my class\""
   ]
  },
  {
   "cell_type": "code",
   "execution_count": 81,
   "id": "5c2beb9f-3f74-4571-9764-65a3d2e58308",
   "metadata": {},
   "outputs": [
    {
     "data": {
      "text/plain": [
       "'hi abhi\\nB.C.A\\nKanpur\\nNgi\\n2020'"
      ]
     },
     "execution_count": 81,
     "metadata": {},
     "output_type": "execute_result"
    }
   ],
   "source": [
    "\"\"\"hi abhi\n",
    "B.C.A\n",
    "Kanpur\n",
    "Ngi\n",
    "2020\"\"\""
   ]
  },
  {
   "cell_type": "code",
   "execution_count": 85,
   "id": "da6981bf-fe1e-441c-aa57-f7f69a49d7d2",
   "metadata": {},
   "outputs": [],
   "source": [
    "# aaaaaa\n",
    "# aaddsgfgd\n",
    "# aSDFGH\n",
    "# asawtrtyyhj\n",
    "# asdfghjkkl\n",
    "# asdsfgh"
   ]
  },
  {
   "cell_type": "code",
   "execution_count": 86,
   "id": "4ae62c4e-b927-4846-ab3b-ff3660ea4fcb",
   "metadata": {},
   "outputs": [
    {
     "data": {
      "text/plain": [
       "'pwskllis'"
      ]
     },
     "execution_count": 86,
     "metadata": {},
     "output_type": "execute_result"
    }
   ],
   "source": [
    "s"
   ]
  },
  {
   "cell_type": "code",
   "execution_count": 87,
   "id": "097b6ff8-5198-4485-b918-3bb9433b4a6b",
   "metadata": {},
   "outputs": [
    {
     "data": {
      "text/plain": [
       "'illks'"
      ]
     },
     "execution_count": 87,
     "metadata": {},
     "output_type": "execute_result"
    }
   ],
   "source": [
    "s[-2:-7:-1]"
   ]
  },
  {
   "cell_type": "code",
   "execution_count": null,
   "id": "f0f656b4-8974-4994-bb4d-813d7869f563",
   "metadata": {},
   "outputs": [],
   "source": []
  }
 ],
 "metadata": {
  "kernelspec": {
   "display_name": "Python 3 (ipykernel)",
   "language": "python",
   "name": "python3"
  },
  "language_info": {
   "codemirror_mode": {
    "name": "ipython",
    "version": 3
   },
   "file_extension": ".py",
   "mimetype": "text/x-python",
   "name": "python",
   "nbconvert_exporter": "python",
   "pygments_lexer": "ipython3",
   "version": "3.10.8"
  }
 },
 "nbformat": 4,
 "nbformat_minor": 5
}
